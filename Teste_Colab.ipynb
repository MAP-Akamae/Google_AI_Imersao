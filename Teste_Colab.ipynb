{
  "nbformat": 4,
  "nbformat_minor": 0,
  "metadata": {
    "colab": {
      "provenance": [],
      "authorship_tag": "ABX9TyMTfZuvXLBdjY03xYc8J0Gp",
      "include_colab_link": true
    },
    "kernelspec": {
      "name": "python3",
      "display_name": "Python 3"
    },
    "language_info": {
      "name": "python"
    }
  },
  "cells": [
    {
      "cell_type": "markdown",
      "metadata": {
        "id": "view-in-github",
        "colab_type": "text"
      },
      "source": [
        "<a href=\"https://colab.research.google.com/github/MAP-Akamae/Google_AI_Imersao/blob/main/Teste_Colab.ipynb\" target=\"_parent\"><img src=\"https://colab.research.google.com/assets/colab-badge.svg\" alt=\"Open In Colab\"/></a>"
      ]
    },
    {
      "cell_type": "code",
      "execution_count": 8,
      "metadata": {
        "id": "8ci-4O3FmfUB"
      },
      "outputs": [],
      "source": [
        "pip install -q -U google-generativeai"
      ]
    },
    {
      "cell_type": "markdown",
      "source": [
        "Configurações inicias e imports\n"
      ],
      "metadata": {
        "id": "bS_kmadWs_b1"
      }
    },
    {
      "cell_type": "code",
      "source": [
        "import google.generativeai as genai\n",
        "from  google.colab import userdata\n",
        "GOOGLE_API_KEY = userdata.get(\"API_Key\")\n",
        "genai.configure(api_key=GOOGLE_API_KEY)"
      ],
      "metadata": {
        "id": "WnOENfjwmxtl"
      },
      "execution_count": 9,
      "outputs": []
    },
    {
      "cell_type": "code",
      "source": [
        "generation_config = {\"candidate_count\": 1,\n",
        "                     \"temperature\": 0.5\n",
        "                     }"
      ],
      "metadata": {
        "id": "E4l8_cbPpABx"
      },
      "execution_count": 10,
      "outputs": []
    },
    {
      "cell_type": "markdown",
      "source": [
        "Configurações de Segurança"
      ],
      "metadata": {
        "id": "Bl5yf8lE2pFa"
      }
    },
    {
      "cell_type": "code",
      "source": [
        "configuracao_Seguranca = {\n",
        "    \"HARASSMENT\": \"BLOCK_NONE\",\n",
        "    \"HATE\":\"BLOCK_NONE\",\n",
        "    \"SEXUAL\" :\"BLOCK_NONE\",\n",
        "    \"DANGEROUS\" :\"BLOCK_NONE\"\n",
        "\n",
        "}"
      ],
      "metadata": {
        "id": "HEH3NYjk1uqK"
      },
      "execution_count": 13,
      "outputs": []
    },
    {
      "cell_type": "markdown",
      "source": [
        "Inicializando o Modelo"
      ],
      "metadata": {
        "id": "_sx20ruc2uyQ"
      }
    },
    {
      "cell_type": "code",
      "source": [
        "model = genai.GenerativeModel(model_name=\"gemini-1.0-pro\", generation_config=generation_config, safety_settings=configuracao_Seguranca)"
      ],
      "metadata": {
        "id": "Jsucm_tN2Qhe"
      },
      "execution_count": 14,
      "outputs": []
    },
    {
      "cell_type": "code",
      "source": [
        "response = model.generate_content(\"Vamos aprender conteúdo dsobre AI. Me dê sugestões\")\n",
        "print (response.text)"
      ],
      "metadata": {
        "colab": {
          "base_uri": "https://localhost:8080/",
          "height": 694
        },
        "id": "Yw7icY2237eE",
        "outputId": "d6220820-c345-462f-d4a3-8bb999b4206e"
      },
      "execution_count": 15,
      "outputs": [
        {
          "output_type": "stream",
          "name": "stdout",
          "text": [
            "**Conceitos Fundamentais**\n",
            "\n",
            "* Definição e história da Inteligência Artificial (IA)\n",
            "* Tipos de IA: Aprendizado de Máquina, Aprendizado Profundo, Processamento de Linguagem Natural\n",
            "* Algoritmos e modelos de IA\n",
            "* Ética e implicações sociais da IA\n",
            "\n",
            "**Aprendizado de Máquina**\n",
            "\n",
            "* Tipos de aprendizado de máquina: supervisionado, não supervisionado, por reforço\n",
            "* Algoritmos de aprendizado de máquina: regressão, classificação, agrupamento\n",
            "* Avaliação e otimização de modelos de aprendizado de máquina\n",
            "\n",
            "**Aprendizado Profundo**\n",
            "\n",
            "* Redes neurais: convolucionais, recorrentes, transformadores\n",
            "* Arquiteturas de aprendizado profundo: CNNs, RNNs, GANs\n",
            "* Aplicações de aprendizado profundo: visão computacional, processamento de linguagem natural\n",
            "\n",
            "**Processamento de Linguagem Natural**\n",
            "\n",
            "* Representação de texto: vetores de palavras, modelos de linguagem\n",
            "* Tarefas de PNL: classificação de texto, geração de texto, tradução automática\n",
            "* Modelos de PNL: BERT, GPT-3, Transformers\n",
            "\n",
            "**Aplicações da IA**\n",
            "\n",
            "* Visão computacional: reconhecimento de objetos, detecção de rosto\n",
            "* Processamento de linguagem natural: chatbots, tradução automática\n",
            "* Automação: robótica, veículos autônomos\n",
            "* Cuidados de saúde: diagnóstico médico, descoberta de medicamentos\n",
            "* Finanças: detecção de fraudes, gerenciamento de riscos\n",
            "\n",
            "**Recursos de Aprendizagem**\n",
            "\n",
            "* Cursos online: Coursera, edX, Udacity\n",
            "* Livros: \"Inteligência Artificial: Uma Abordagem Moderna\" (Stuart Russell e Peter Norvig), \"Aprendizado Profundo\" (Ian Goodfellow, Yoshua Bengio e Aaron Courville)\n",
            "* Tutoriais e documentação: TensorFlow, PyTorch, Keras\n",
            "* Comunidades online: Stack Overflow, Reddit (r/MachineLearning, r/DeepLearning)\n"
          ]
        }
      ]
    },
    {
      "cell_type": "code",
      "source": [
        "chat =  model.start_chat(history=[])\n"
      ],
      "metadata": {
        "id": "DqgkPhz04PwL"
      },
      "execution_count": 16,
      "outputs": []
    },
    {
      "cell_type": "code",
      "source": [
        "prompt = input(\"esperando prompt: \")\n",
        "\n",
        "while prompt != \"***fim\":\n",
        "  response = chat.send_message(prompt)\n",
        "  print(\"Resposta: \",response.text ,\"\\n ********* \\n\")\n",
        "  prompt = input(\"esperando prompt: \")"
      ],
      "metadata": {
        "colab": {
          "base_uri": "https://localhost:8080/",
          "height": 382
        },
        "id": "EtM3GC014uMc",
        "outputId": "ab47638c-b73b-4234-90b6-4cea1afe922e"
      },
      "execution_count": 20,
      "outputs": [
        {
          "name": "stdout",
          "output_type": "stream",
          "text": [
            "esperando prompt: Qual a capital do brasil\n",
            "Resposta:  Brasília \n",
            " ********* \n",
            "\n",
            "esperando prompt: qual a comida tipica desse pais\n",
            "Resposta:  Feijoada \n",
            " ********* \n",
            "\n",
            "esperando prompt: qual a capital da argentina\n",
            "Resposta:  Buenos Aires \n",
            " ********* \n",
            "\n",
            "esperando prompt: qual a comida favorita\n",
            "Resposta:  Pizza \n",
            " ********* \n",
            "\n",
            "esperando prompt: qual a comida favorita desse pais\n",
            "Resposta:  Asado (churrasco argentino) \n",
            " ********* \n",
            "\n",
            "esperando prompt: ***fim\n"
          ]
        }
      ]
    },
    {
      "cell_type": "code",
      "source": [
        "chat.history\n"
      ],
      "metadata": {
        "colab": {
          "base_uri": "https://localhost:8080/"
        },
        "id": "6YHJi8G364oD",
        "outputId": "a707ef6e-1b57-4393-92a3-e18f76ebc51e"
      },
      "execution_count": 21,
      "outputs": [
        {
          "output_type": "execute_result",
          "data": {
            "text/plain": [
              "[parts {\n",
              "   text: \"Qual a capital do Brasil\"\n",
              " }\n",
              " role: \"user\",\n",
              " parts {\n",
              "   text: \"Bras\\303\\255lia\"\n",
              " }\n",
              " role: \"model\",\n",
              " parts {\n",
              "   text: \"Qual a capital do Brasi\\303\\247\"\n",
              " }\n",
              " role: \"user\",\n",
              " parts {\n",
              "   text: \"Bras\\303\\255lia\"\n",
              " }\n",
              " role: \"model\",\n",
              " parts {\n",
              "   text: \"Qual a capital do brasil\"\n",
              " }\n",
              " role: \"user\",\n",
              " parts {\n",
              "   text: \"Bras\\303\\255lia\"\n",
              " }\n",
              " role: \"model\",\n",
              " parts {\n",
              "   text: \"qual a comida tipica desse pais\"\n",
              " }\n",
              " role: \"user\",\n",
              " parts {\n",
              "   text: \"Feijoada\"\n",
              " }\n",
              " role: \"model\",\n",
              " parts {\n",
              "   text: \"qual a capital da argentina\"\n",
              " }\n",
              " role: \"user\",\n",
              " parts {\n",
              "   text: \"Buenos Aires\"\n",
              " }\n",
              " role: \"model\",\n",
              " parts {\n",
              "   text: \"qual a comida favorita\"\n",
              " }\n",
              " role: \"user\",\n",
              " parts {\n",
              "   text: \"Pizza\"\n",
              " }\n",
              " role: \"model\",\n",
              " parts {\n",
              "   text: \"qual a comida favorita desse pais\"\n",
              " }\n",
              " role: \"user\",\n",
              " parts {\n",
              "   text: \"Asado (churrasco argentino)\"\n",
              " }\n",
              " role: \"model\"]"
            ]
          },
          "metadata": {},
          "execution_count": 21
        }
      ]
    }
  ]
}