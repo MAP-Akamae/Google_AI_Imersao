{
  "nbformat": 4,
  "nbformat_minor": 0,
  "metadata": {
    "colab": {
      "provenance": [],
      "authorship_tag": "ABX9TyP+l9ziEfjywxG+calaOIAh",
      "include_colab_link": true
    },
    "kernelspec": {
      "name": "python3",
      "display_name": "Python 3"
    },
    "language_info": {
      "name": "python"
    }
  },
  "cells": [
    {
      "cell_type": "markdown",
      "metadata": {
        "id": "view-in-github",
        "colab_type": "text"
      },
      "source": [
        "<a href=\"https://colab.research.google.com/github/MAP-Akamae/Google_AI_Imersao/blob/main/ResumoEsportes.ipynb\" target=\"_parent\"><img src=\"https://colab.research.google.com/assets/colab-badge.svg\" alt=\"Open In Colab\"/></a>"
      ]
    },
    {
      "cell_type": "code",
      "source": [
        "!pip install -q -U google-generativeai"
      ],
      "metadata": {
        "id": "Kx7ptSZaL5ez"
      },
      "execution_count": 19,
      "outputs": []
    },
    {
      "cell_type": "code",
      "execution_count": 20,
      "metadata": {
        "id": "JACGBRHOyzsg"
      },
      "outputs": [],
      "source": [
        "import requests\n",
        "from bs4 import BeautifulSoup\n",
        "\n",
        "import mimetypes\n",
        "from IPython.display import Markdown"
      ]
    },
    {
      "cell_type": "code",
      "source": [
        "import google.generativeai as genai"
      ],
      "metadata": {
        "id": "A5LZNYqUMN5R"
      },
      "execution_count": 21,
      "outputs": []
    },
    {
      "cell_type": "code",
      "source": [
        "from google.colab import userdata\n",
        "GOOGLE_API_KEY=userdata.get('GOOGLE_API_KEY')\n",
        "genai.configure(api_key=GOOGLE_API_KEY)"
      ],
      "metadata": {
        "id": "EvpAOhDRLz65"
      },
      "execution_count": 22,
      "outputs": []
    },
    {
      "cell_type": "code",
      "source": [
        "url = 'https://ge.globo.com/'\n",
        "\n",
        "# Faz a requisição ao site\n",
        "response = requests.get(url)\n",
        "\n",
        "# Verifica se a requisição foi bem sucedida\n",
        "if response.status_code == 200:\n",
        "    # Analisa o conteúdo HTML usando BeautifulSoup\n",
        "    soup = BeautifulSoup(response.content, 'html.parser')\n",
        "\n",
        "    # Extrai todo o texto do site\n",
        "    conteudo_texto = soup.get_text(strip=True)\n",
        "\n",
        "    # Imprime o conteúdo do site\n",
        " #   print(conteudo_texto)\n",
        "#else:\n",
        " #   print(f\"Erro ao acessar o site: {response.status_code}\")"
      ],
      "metadata": {
        "id": "CGx4BVfPMQZF"
      },
      "execution_count": 34,
      "outputs": []
    },
    {
      "cell_type": "code",
      "source": [
        "result = genai.embed_content( model=\"models/text-embedding-004\",    content=[conteudo_texto])\n",
        "\n"
      ],
      "metadata": {
        "id": "y9efHYBXL218"
      },
      "execution_count": 24,
      "outputs": []
    },
    {
      "cell_type": "code",
      "source": [
        "prompt = f\"Informe o titulos das noticias de esporte de destaque do texto com pequeno resumo de cada noticia: {conteudo_texto}\"\n"
      ],
      "metadata": {
        "id": "aYoGl6HQN3wQ"
      },
      "execution_count": 32,
      "outputs": []
    },
    {
      "cell_type": "code",
      "source": [
        "generation_config = {\n",
        "  \"temperature\": 0,\n",
        "  \"candidate_count\": 1\n",
        "}"
      ],
      "metadata": {
        "id": "VEgUDbO6OGKD"
      },
      "execution_count": 26,
      "outputs": []
    },
    {
      "cell_type": "code",
      "source": [
        "model_2 = genai.GenerativeModel(\"gemini-1.0-pro\",\n",
        "                                generation_config=generation_config)\n",
        "response = model_2.generate_content(prompt)\n",
        "display(Markdown(response.text))\n",
        "\n"
      ],
      "metadata": {
        "colab": {
          "base_uri": "https://localhost:8080/",
          "height": 274
        },
        "id": "5zQNGiAvOM9U",
        "outputId": "44d93c7d-4c87-49f7-e8d1-130bd655091f"
      },
      "execution_count": 33,
      "outputs": [
        {
          "output_type": "display_data",
          "data": {
            "text/plain": [
              "<IPython.core.display.Markdown object>"
            ],
            "text/markdown": "**Tragédia no RS: Conmebol mantém conversas com dupla Gre-Nal para remarcar jogos da Libertadores e Sul-Americana**\n\nA Conmebol está em contato com Grêmio e Internacional para remarcar os jogos da Libertadores e Sul-Americana que foram adiados devido às fortes chuvas no Rio Grande do Sul.\n\n**Palmeiras goleia Santos com show de Amanda Gutierres**\n\nO Palmeiras venceu o Santos por 4 a 0 no Campeonato Brasileiro Feminino, com destaque para a atacante Amanda Gutierres, que marcou dois gols.\n\n**Luis Enrique diz que entende saída de Mbappé, mas promete que PSG \"vai continuar grande\"**\n\nO técnico do PSG, Luis Enrique, afirmou que compreende a decisão de Kylian Mbappé de deixar o clube, mas garantiu que o time continuará forte.\n\n**Presidente do Atlético-MG defende paralisação do Brasileiro por causa de tragédia no RS**\n\nO presidente do Atlético-MG, Sérgio Coelho, defendeu a paralisação do Campeonato Brasileiro devido às fortes chuvas no Rio Grande do Sul.\n\n**Neymar leva Mavie ao estádio e participa de festa do título do Al-Hilal**\n\nNeymar acompanhou a conquista do título da liga saudita pelo Al-Hilal ao lado da filha, Mavie, e da namorada, Bruna Biancardi."
          },
          "metadata": {}
        }
      ]
    },
    {
      "cell_type": "code",
      "source": [],
      "metadata": {
        "id": "Gw_HqEpFRz57"
      },
      "execution_count": 27,
      "outputs": []
    }
  ]
}