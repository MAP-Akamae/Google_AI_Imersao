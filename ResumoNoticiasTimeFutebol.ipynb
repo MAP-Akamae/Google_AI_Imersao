{
  "nbformat": 4,
  "nbformat_minor": 0,
  "metadata": {
    "colab": {
      "provenance": [],
      "authorship_tag": "ABX9TyPe+I0WwTgXM6oADnkvhzCO",
      "include_colab_link": true
    },
    "kernelspec": {
      "name": "python3",
      "display_name": "Python 3"
    },
    "language_info": {
      "name": "python"
    }
  },
  "cells": [
    {
      "cell_type": "markdown",
      "metadata": {
        "id": "view-in-github",
        "colab_type": "text"
      },
      "source": [
        "<a href=\"https://colab.research.google.com/github/MAP-Akamae/Google_AI_Imersao/blob/main/ResumoNoticiasTimeFutebol.ipynb\" target=\"_parent\"><img src=\"https://colab.research.google.com/assets/colab-badge.svg\" alt=\"Open In Colab\"/></a>"
      ]
    },
    {
      "cell_type": "code",
      "source": [
        "!pip install -q -U google-generativeai"
      ],
      "metadata": {
        "id": "Kx7ptSZaL5ez"
      },
      "execution_count": 57,
      "outputs": []
    },
    {
      "cell_type": "code",
      "execution_count": 58,
      "metadata": {
        "id": "JACGBRHOyzsg"
      },
      "outputs": [],
      "source": [
        "import requests\n",
        "from bs4 import BeautifulSoup\n",
        "\n",
        "import mimetypes\n",
        "from IPython.display import Markdown"
      ]
    },
    {
      "cell_type": "code",
      "source": [
        "import google.generativeai as genai"
      ],
      "metadata": {
        "id": "A5LZNYqUMN5R"
      },
      "execution_count": 59,
      "outputs": []
    },
    {
      "cell_type": "code",
      "source": [
        "from google.colab import userdata\n",
        "GOOGLE_API_KEY=userdata.get('GOOGLE_API_KEY')\n",
        "genai.configure(api_key=GOOGLE_API_KEY)"
      ],
      "metadata": {
        "id": "EvpAOhDRLz65"
      },
      "execution_count": 60,
      "outputs": []
    },
    {
      "cell_type": "code",
      "source": [
        "url = 'https://www.cnnbrasil.com.br/esportes/'\n",
        "\n",
        "# Faz a requisição ao site\n",
        "response = requests.get(url)\n",
        "\n",
        "# Verifica se a requisição foi bem sucedida\n",
        "if response.status_code == 200:\n",
        "    # Analisa o conteúdo HTML usando BeautifulSoup\n",
        "    soup = BeautifulSoup(response.content, 'html.parser')\n",
        "\n",
        "    # Extrai todo o texto do site\n",
        "    conteudo_texto = soup.get_text(strip=True)\n",
        "\n",
        "    # Imprime o conteúdo do site\n",
        " #   print(conteudo_texto)\n",
        "#else:\n",
        " #   print(f\"Erro ao acessar o site: {response.status_code}\")"
      ],
      "metadata": {
        "id": "CGx4BVfPMQZF"
      },
      "execution_count": 81,
      "outputs": []
    },
    {
      "cell_type": "code",
      "source": [
        "result = genai.embed_content( model=\"models/text-embedding-004\",    content=[conteudo_texto])\n",
        "\n"
      ],
      "metadata": {
        "id": "y9efHYBXL218"
      },
      "execution_count": 82,
      "outputs": []
    },
    {
      "cell_type": "code",
      "source": [
        "promptTime =   input(\"Informe seu Time: \")"
      ],
      "metadata": {
        "colab": {
          "base_uri": "https://localhost:8080/"
        },
        "id": "b3RACMlDWAws",
        "outputId": "fe0f7b74-1643-4fcd-8862-252f7f02ca61"
      },
      "execution_count": 87,
      "outputs": [
        {
          "name": "stdout",
          "output_type": "stream",
          "text": [
            "Informe seu Time: Palmeiras\n"
          ]
        }
      ]
    },
    {
      "cell_type": "code",
      "source": [
        "prompt = f\"Informe o titulos das noticias com pequeno resumo de cada noticia sobre o  {promptTime}  somente com base no texto: {conteudo_texto}\"\n"
      ],
      "metadata": {
        "id": "aYoGl6HQN3wQ"
      },
      "execution_count": 88,
      "outputs": []
    },
    {
      "cell_type": "code",
      "source": [
        "generation_config = {\n",
        "  \"temperature\": 0.3,\n",
        "  \"candidate_count\": 1\n",
        "}"
      ],
      "metadata": {
        "id": "VEgUDbO6OGKD"
      },
      "execution_count": 85,
      "outputs": []
    },
    {
      "cell_type": "code",
      "source": [
        "model_2 = genai.GenerativeModel(\"gemini-1.0-pro\",\n",
        "                                generation_config=generation_config)\n",
        "response = model_2.generate_content(prompt)\n",
        "display(Markdown(response.text))\n",
        "\n"
      ],
      "metadata": {
        "colab": {
          "base_uri": "https://localhost:8080/",
          "height": 104
        },
        "id": "5zQNGiAvOM9U",
        "outputId": "f99750d3-729c-40e9-f983-d59c585bc842"
      },
      "execution_count": 89,
      "outputs": [
        {
          "output_type": "display_data",
          "data": {
            "text/plain": [
              "<IPython.core.display.Markdown object>"
            ],
            "text/markdown": "**Na Seleção, Endrick pode atingir nova meta de bônus para Palmeiras**\n\n* Endrick, atacante do Palmeiras, pode atingir uma nova meta de bônus em seu contrato com o clube se for convocado para a Seleção Brasileira principal.\n* O jogador tem uma cláusula que prevê o pagamento de uma quantia em dinheiro caso seja chamado para a equipe nacional.\n* A convocação de Endrick para a Seleção seria um marco importante em sua carreira e também traria benefícios financeiros para o Palmeiras."
          },
          "metadata": {}
        }
      ]
    },
    {
      "cell_type": "code",
      "source": [],
      "metadata": {
        "id": "Gw_HqEpFRz57"
      },
      "execution_count": 66,
      "outputs": []
    }
  ]
}